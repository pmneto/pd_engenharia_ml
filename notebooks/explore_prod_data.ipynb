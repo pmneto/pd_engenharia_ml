{
 "cells": [
  {
   "cell_type": "code",
   "execution_count": 1,
   "metadata": {},
   "outputs": [
    {
     "name": "stdout",
     "output_type": "stream",
     "text": [
      "✅ Pacote importado com sucesso!\n"
     ]
    }
   ],
   "source": [
    "import sys\n",
    "from pathlib import Path\n",
    "\n",
    "# Adiciona src/ ao sys.path, mesmo que notebook esteja em notebooks/\n",
    "src_path = Path.cwd().parent / \"src\"\n",
    "if str(src_path) not in sys.path:\n",
    "    sys.path.insert(0, str(src_path))\n",
    "\n",
    "# Testa se agora o pacote pode ser importado\n",
    "import engenharia_ml_kobe\n",
    "print(\"✅ Pacote importado com sucesso!\")\n"
   ]
  },
  {
   "cell_type": "code",
   "execution_count": 3,
   "metadata": {},
   "outputs": [
    {
     "data": {
      "text/html": [
       "<pre style=\"white-space:pre;overflow-x:auto;line-height:normal;font-family:Menlo,'DejaVu Sans Mono',consolas,'Courier New',monospace\"><span style=\"color: #7fbfbf; text-decoration-color: #7fbfbf\">[04/06/25 12:43:56] </span><span style=\"color: #000080; text-decoration-color: #000080\">INFO    </span> Kedro is sending anonymous usage data with the sole purpose of improving <a href=\"file://c:\\Users\\pmnet\\Documents\\Projetos\\pos_graduacao\\Engenharia_ML_1_tri\\engenharia-ml\\engenhariaml-win\\lib\\site-packages\\kedro_telemetry\\plugin.py\" target=\"_blank\"><span style=\"color: #7f7f7f; text-decoration-color: #7f7f7f\">plugin.py</span></a><span style=\"color: #7f7f7f; text-decoration-color: #7f7f7f\">:</span><a href=\"file://c:\\Users\\pmnet\\Documents\\Projetos\\pos_graduacao\\Engenharia_ML_1_tri\\engenharia-ml\\engenhariaml-win\\lib\\site-packages\\kedro_telemetry\\plugin.py#233\" target=\"_blank\"><span style=\"color: #7f7f7f; text-decoration-color: #7f7f7f\">233</span></a>\n",
       "<span style=\"color: #7fbfbf; text-decoration-color: #7fbfbf\">                    </span>         the product. No personal data or IP addresses are stored on our side. If <span style=\"color: #7f7f7f; text-decoration-color: #7f7f7f\">             </span>\n",
       "<span style=\"color: #7fbfbf; text-decoration-color: #7fbfbf\">                    </span>         you want to opt out, set the `KEDRO_DISABLE_TELEMETRY` or `DO_NOT_TRACK` <span style=\"color: #7f7f7f; text-decoration-color: #7f7f7f\">             </span>\n",
       "<span style=\"color: #7fbfbf; text-decoration-color: #7fbfbf\">                    </span>         environment variables, or create a `.telemetry` file in the current      <span style=\"color: #7f7f7f; text-decoration-color: #7f7f7f\">             </span>\n",
       "<span style=\"color: #7fbfbf; text-decoration-color: #7fbfbf\">                    </span>         working directory with the contents `consent: false`. Read more at       <span style=\"color: #7f7f7f; text-decoration-color: #7f7f7f\">             </span>\n",
       "<span style=\"color: #7fbfbf; text-decoration-color: #7fbfbf\">                    </span>         <span style=\"color: #0000ff; text-decoration-color: #0000ff; text-decoration: underline\">https://docs.kedro.org/en/stable/configuration/telemetry.html</span>            <span style=\"color: #7f7f7f; text-decoration-color: #7f7f7f\">             </span>\n",
       "</pre>\n"
      ],
      "text/plain": [
       "\u001b[2;36m[04/06/25 12:43:56]\u001b[0m\u001b[2;36m \u001b[0m\u001b[34mINFO    \u001b[0m Kedro is sending anonymous usage data with the sole purpose of improving \u001b]8;id=683063;file://c:\\Users\\pmnet\\Documents\\Projetos\\pos_graduacao\\Engenharia_ML_1_tri\\engenharia-ml\\engenhariaml-win\\lib\\site-packages\\kedro_telemetry\\plugin.py\u001b\\\u001b[2mplugin.py\u001b[0m\u001b]8;;\u001b\\\u001b[2m:\u001b[0m\u001b]8;id=813169;file://c:\\Users\\pmnet\\Documents\\Projetos\\pos_graduacao\\Engenharia_ML_1_tri\\engenharia-ml\\engenhariaml-win\\lib\\site-packages\\kedro_telemetry\\plugin.py#233\u001b\\\u001b[2m233\u001b[0m\u001b]8;;\u001b\\\n",
       "\u001b[2;36m                    \u001b[0m         the product. No personal data or IP addresses are stored on our side. If \u001b[2m             \u001b[0m\n",
       "\u001b[2;36m                    \u001b[0m         you want to opt out, set the `KEDRO_DISABLE_TELEMETRY` or `DO_NOT_TRACK` \u001b[2m             \u001b[0m\n",
       "\u001b[2;36m                    \u001b[0m         environment variables, or create a `.telemetry` file in the current      \u001b[2m             \u001b[0m\n",
       "\u001b[2;36m                    \u001b[0m         working directory with the contents `consent: false`. Read more at       \u001b[2m             \u001b[0m\n",
       "\u001b[2;36m                    \u001b[0m         \u001b[4;94mhttps://docs.kedro.org/en/stable/configuration/telemetry.html\u001b[0m            \u001b[2m             \u001b[0m\n"
      ]
     },
     "metadata": {},
     "output_type": "display_data"
    },
    {
     "data": {
      "text/html": [
       "<pre style=\"white-space:pre;overflow-x:auto;line-height:normal;font-family:Menlo,'DejaVu Sans Mono',consolas,'Courier New',monospace\"><span style=\"color: #7fbfbf; text-decoration-color: #7fbfbf\">[04/06/25 12:43:57] </span><span style=\"color: #000080; text-decoration-color: #000080\">INFO    </span> Loading data from <span style=\"color: #ff8700; text-decoration-color: #ff8700\">prod_shots</span> <span style=\"font-weight: bold\">(</span>ParquetDataset<span style=\"font-weight: bold\">)</span><span style=\"color: #808000; text-decoration-color: #808000\">...</span>                   <a href=\"file://c:\\Users\\pmnet\\Documents\\Projetos\\pos_graduacao\\Engenharia_ML_1_tri\\engenharia-ml\\engenhariaml-win\\lib\\site-packages\\kedro\\io\\data_catalog.py\" target=\"_blank\"><span style=\"color: #7f7f7f; text-decoration-color: #7f7f7f\">data_catalog.py</span></a><span style=\"color: #7f7f7f; text-decoration-color: #7f7f7f\">:</span><a href=\"file://c:\\Users\\pmnet\\Documents\\Projetos\\pos_graduacao\\Engenharia_ML_1_tri\\engenharia-ml\\engenhariaml-win\\lib\\site-packages\\kedro\\io\\data_catalog.py#401\" target=\"_blank\"><span style=\"color: #7f7f7f; text-decoration-color: #7f7f7f\">401</span></a>\n",
       "</pre>\n"
      ],
      "text/plain": [
       "\u001b[2;36m[04/06/25 12:43:57]\u001b[0m\u001b[2;36m \u001b[0m\u001b[34mINFO    \u001b[0m Loading data from \u001b[38;5;208mprod_shots\u001b[0m \u001b[1m(\u001b[0mParquetDataset\u001b[1m)\u001b[0m\u001b[33m...\u001b[0m                   \u001b]8;id=865708;file://c:\\Users\\pmnet\\Documents\\Projetos\\pos_graduacao\\Engenharia_ML_1_tri\\engenharia-ml\\engenhariaml-win\\lib\\site-packages\\kedro\\io\\data_catalog.py\u001b\\\u001b[2mdata_catalog.py\u001b[0m\u001b]8;;\u001b\\\u001b[2m:\u001b[0m\u001b]8;id=415077;file://c:\\Users\\pmnet\\Documents\\Projetos\\pos_graduacao\\Engenharia_ML_1_tri\\engenharia-ml\\engenhariaml-win\\lib\\site-packages\\kedro\\io\\data_catalog.py#401\u001b\\\u001b[2m401\u001b[0m\u001b]8;;\u001b\\\n"
      ]
     },
     "metadata": {},
     "output_type": "display_data"
    },
    {
     "data": {
      "text/html": [
       "<pre style=\"white-space:pre;overflow-x:auto;line-height:normal;font-family:Menlo,'DejaVu Sans Mono',consolas,'Courier New',monospace\"></pre>\n"
      ],
      "text/plain": []
     },
     "metadata": {},
     "output_type": "display_data"
    },
    {
     "data": {
      "text/html": [
       "<div>\n",
       "<style scoped>\n",
       "    .dataframe tbody tr th:only-of-type {\n",
       "        vertical-align: middle;\n",
       "    }\n",
       "\n",
       "    .dataframe tbody tr th {\n",
       "        vertical-align: top;\n",
       "    }\n",
       "\n",
       "    .dataframe thead th {\n",
       "        text-align: right;\n",
       "    }\n",
       "</style>\n",
       "<table border=\"1\" class=\"dataframe\">\n",
       "  <thead>\n",
       "    <tr style=\"text-align: right;\">\n",
       "      <th></th>\n",
       "      <th>action_type</th>\n",
       "      <th>combined_shot_type</th>\n",
       "      <th>game_event_id</th>\n",
       "      <th>game_id</th>\n",
       "      <th>lat</th>\n",
       "      <th>loc_x</th>\n",
       "      <th>loc_y</th>\n",
       "      <th>lon</th>\n",
       "      <th>minutes_remaining</th>\n",
       "      <th>period</th>\n",
       "      <th>...</th>\n",
       "      <th>shot_type</th>\n",
       "      <th>shot_zone_area</th>\n",
       "      <th>shot_zone_basic</th>\n",
       "      <th>shot_zone_range</th>\n",
       "      <th>team_id</th>\n",
       "      <th>team_name</th>\n",
       "      <th>game_date</th>\n",
       "      <th>matchup</th>\n",
       "      <th>opponent</th>\n",
       "      <th>shot_id</th>\n",
       "    </tr>\n",
       "  </thead>\n",
       "  <tbody>\n",
       "    <tr>\n",
       "      <th>10</th>\n",
       "      <td>Jump Shot</td>\n",
       "      <td>Jump Shot</td>\n",
       "      <td>309</td>\n",
       "      <td>20000012</td>\n",
       "      <td>33.8063</td>\n",
       "      <td>-94</td>\n",
       "      <td>238</td>\n",
       "      <td>-118.3638</td>\n",
       "      <td>1</td>\n",
       "      <td>3</td>\n",
       "      <td>...</td>\n",
       "      <td>3PT Field Goal</td>\n",
       "      <td>Left Side Center(LC)</td>\n",
       "      <td>Above the Break 3</td>\n",
       "      <td>24+ ft.</td>\n",
       "      <td>1610612747</td>\n",
       "      <td>Los Angeles Lakers</td>\n",
       "      <td>2000-10-31</td>\n",
       "      <td>LAL @ POR</td>\n",
       "      <td>POR</td>\n",
       "      <td>11</td>\n",
       "    </tr>\n",
       "    <tr>\n",
       "      <th>17</th>\n",
       "      <td>Jump Shot</td>\n",
       "      <td>Jump Shot</td>\n",
       "      <td>138</td>\n",
       "      <td>20000019</td>\n",
       "      <td>33.8183</td>\n",
       "      <td>-117</td>\n",
       "      <td>226</td>\n",
       "      <td>-118.3868</td>\n",
       "      <td>8</td>\n",
       "      <td>2</td>\n",
       "      <td>...</td>\n",
       "      <td>3PT Field Goal</td>\n",
       "      <td>Left Side Center(LC)</td>\n",
       "      <td>Above the Break 3</td>\n",
       "      <td>24+ ft.</td>\n",
       "      <td>1610612747</td>\n",
       "      <td>Los Angeles Lakers</td>\n",
       "      <td>2000-11-01</td>\n",
       "      <td>LAL vs. UTA</td>\n",
       "      <td>UTA</td>\n",
       "      <td>18</td>\n",
       "    </tr>\n",
       "    <tr>\n",
       "      <th>27</th>\n",
       "      <td>Jump Shot</td>\n",
       "      <td>Jump Shot</td>\n",
       "      <td>369</td>\n",
       "      <td>20000019</td>\n",
       "      <td>33.8583</td>\n",
       "      <td>-183</td>\n",
       "      <td>186</td>\n",
       "      <td>-118.4528</td>\n",
       "      <td>0</td>\n",
       "      <td>3</td>\n",
       "      <td>...</td>\n",
       "      <td>3PT Field Goal</td>\n",
       "      <td>Left Side Center(LC)</td>\n",
       "      <td>Above the Break 3</td>\n",
       "      <td>24+ ft.</td>\n",
       "      <td>1610612747</td>\n",
       "      <td>Los Angeles Lakers</td>\n",
       "      <td>2000-11-01</td>\n",
       "      <td>LAL vs. UTA</td>\n",
       "      <td>UTA</td>\n",
       "      <td>28</td>\n",
       "    </tr>\n",
       "    <tr>\n",
       "      <th>39</th>\n",
       "      <td>Jump Shot</td>\n",
       "      <td>Jump Shot</td>\n",
       "      <td>202</td>\n",
       "      <td>20000047</td>\n",
       "      <td>33.7723</td>\n",
       "      <td>-27</td>\n",
       "      <td>272</td>\n",
       "      <td>-118.2968</td>\n",
       "      <td>0</td>\n",
       "      <td>2</td>\n",
       "      <td>...</td>\n",
       "      <td>3PT Field Goal</td>\n",
       "      <td>Center(C)</td>\n",
       "      <td>Above the Break 3</td>\n",
       "      <td>24+ ft.</td>\n",
       "      <td>1610612747</td>\n",
       "      <td>Los Angeles Lakers</td>\n",
       "      <td>2000-11-04</td>\n",
       "      <td>LAL @ VAN</td>\n",
       "      <td>VAN</td>\n",
       "      <td>40</td>\n",
       "    </tr>\n",
       "    <tr>\n",
       "      <th>54</th>\n",
       "      <td>Jump Shot</td>\n",
       "      <td>Jump Shot</td>\n",
       "      <td>60</td>\n",
       "      <td>20000049</td>\n",
       "      <td>33.7973</td>\n",
       "      <td>-141</td>\n",
       "      <td>247</td>\n",
       "      <td>-118.4108</td>\n",
       "      <td>4</td>\n",
       "      <td>1</td>\n",
       "      <td>...</td>\n",
       "      <td>3PT Field Goal</td>\n",
       "      <td>Left Side Center(LC)</td>\n",
       "      <td>Above the Break 3</td>\n",
       "      <td>24+ ft.</td>\n",
       "      <td>1610612747</td>\n",
       "      <td>Los Angeles Lakers</td>\n",
       "      <td>2000-11-05</td>\n",
       "      <td>LAL vs. LAC</td>\n",
       "      <td>LAC</td>\n",
       "      <td>55</td>\n",
       "    </tr>\n",
       "  </tbody>\n",
       "</table>\n",
       "<p>5 rows × 25 columns</p>\n",
       "</div>"
      ],
      "text/plain": [
       "\n",
       "   action_type combined_shot_type  game_event_id   game_id      lat  loc_x  \\\n",
       "\u001b[1;36m10\u001b[0m   Jump Shot          Jump Shot            \u001b[1;36m309\u001b[0m  \u001b[1;36m20000012\u001b[0m  \u001b[1;36m33.8063\u001b[0m    \u001b[1;36m-94\u001b[0m   \n",
       "\u001b[1;36m17\u001b[0m   Jump Shot          Jump Shot            \u001b[1;36m138\u001b[0m  \u001b[1;36m20000019\u001b[0m  \u001b[1;36m33.8183\u001b[0m   \u001b[1;36m-117\u001b[0m   \n",
       "\u001b[1;36m27\u001b[0m   Jump Shot          Jump Shot            \u001b[1;36m369\u001b[0m  \u001b[1;36m20000019\u001b[0m  \u001b[1;36m33.8583\u001b[0m   \u001b[1;36m-183\u001b[0m   \n",
       "\u001b[1;36m39\u001b[0m   Jump Shot          Jump Shot            \u001b[1;36m202\u001b[0m  \u001b[1;36m20000047\u001b[0m  \u001b[1;36m33.7723\u001b[0m    \u001b[1;36m-27\u001b[0m   \n",
       "\u001b[1;36m54\u001b[0m   Jump Shot          Jump Shot             \u001b[1;36m60\u001b[0m  \u001b[1;36m20000049\u001b[0m  \u001b[1;36m33.7973\u001b[0m   \u001b[1;36m-141\u001b[0m   \n",
       "\n",
       "    loc_y       lon  minutes_remaining  period  \u001b[33m...\u001b[0m       shot_type  \\\n",
       "\u001b[1;36m10\u001b[0m    \u001b[1;36m238\u001b[0m \u001b[1;36m-118.3638\u001b[0m                  \u001b[1;36m1\u001b[0m       \u001b[1;36m3\u001b[0m  \u001b[33m...\u001b[0m  3PT Field Goal   \n",
       "\u001b[1;36m17\u001b[0m    \u001b[1;36m226\u001b[0m \u001b[1;36m-118.3868\u001b[0m                  \u001b[1;36m8\u001b[0m       \u001b[1;36m2\u001b[0m  \u001b[33m...\u001b[0m  3PT Field Goal   \n",
       "\u001b[1;36m27\u001b[0m    \u001b[1;36m186\u001b[0m \u001b[1;36m-118.4528\u001b[0m                  \u001b[1;36m0\u001b[0m       \u001b[1;36m3\u001b[0m  \u001b[33m...\u001b[0m  3PT Field Goal   \n",
       "\u001b[1;36m39\u001b[0m    \u001b[1;36m272\u001b[0m \u001b[1;36m-118.2968\u001b[0m                  \u001b[1;36m0\u001b[0m       \u001b[1;36m2\u001b[0m  \u001b[33m...\u001b[0m  3PT Field Goal   \n",
       "\u001b[1;36m54\u001b[0m    \u001b[1;36m247\u001b[0m \u001b[1;36m-118.4108\u001b[0m                  \u001b[1;36m4\u001b[0m       \u001b[1;36m1\u001b[0m  \u001b[33m...\u001b[0m  3PT Field Goal   \n",
       "\n",
       "          shot_zone_area    shot_zone_basic  shot_zone_range     team_id  \\\n",
       "\u001b[1;36m10\u001b[0m  Left Side \u001b[1;35mCenter\u001b[0m\u001b[1m(\u001b[0mLC\u001b[1m)\u001b[0m  Above the Break \u001b[1;36m3\u001b[0m          \u001b[1;36m24\u001b[0m+ ft.  \u001b[1;36m1610612747\u001b[0m   \n",
       "\u001b[1;36m17\u001b[0m  Left Side \u001b[1;35mCenter\u001b[0m\u001b[1m(\u001b[0mLC\u001b[1m)\u001b[0m  Above the Break \u001b[1;36m3\u001b[0m          \u001b[1;36m24\u001b[0m+ ft.  \u001b[1;36m1610612747\u001b[0m   \n",
       "\u001b[1;36m27\u001b[0m  Left Side \u001b[1;35mCenter\u001b[0m\u001b[1m(\u001b[0mLC\u001b[1m)\u001b[0m  Above the Break \u001b[1;36m3\u001b[0m          \u001b[1;36m24\u001b[0m+ ft.  \u001b[1;36m1610612747\u001b[0m   \n",
       "\u001b[1;36m39\u001b[0m             \u001b[1;35mCenter\u001b[0m\u001b[1m(\u001b[0mC\u001b[1m)\u001b[0m  Above the Break \u001b[1;36m3\u001b[0m          \u001b[1;36m24\u001b[0m+ ft.  \u001b[1;36m1610612747\u001b[0m   \n",
       "\u001b[1;36m54\u001b[0m  Left Side \u001b[1;35mCenter\u001b[0m\u001b[1m(\u001b[0mLC\u001b[1m)\u001b[0m  Above the Break \u001b[1;36m3\u001b[0m          \u001b[1;36m24\u001b[0m+ ft.  \u001b[1;36m1610612747\u001b[0m   \n",
       "\n",
       "             team_name   game_date      matchup opponent  shot_id  \n",
       "\u001b[1;36m10\u001b[0m  Los Angeles Lakers  \u001b[1;36m2000\u001b[0m-\u001b[1;36m10\u001b[0m-\u001b[1;36m31\u001b[0m    LAL @ POR      POR       \u001b[1;36m11\u001b[0m  \n",
       "\u001b[1;36m17\u001b[0m  Los Angeles Lakers  \u001b[1;36m2000\u001b[0m-\u001b[1;36m11\u001b[0m-\u001b[1;36m01\u001b[0m  LAL vs. UTA      UTA       \u001b[1;36m18\u001b[0m  \n",
       "\u001b[1;36m27\u001b[0m  Los Angeles Lakers  \u001b[1;36m2000\u001b[0m-\u001b[1;36m11\u001b[0m-\u001b[1;36m01\u001b[0m  LAL vs. UTA      UTA       \u001b[1;36m28\u001b[0m  \n",
       "\u001b[1;36m39\u001b[0m  Los Angeles Lakers  \u001b[1;36m2000\u001b[0m-\u001b[1;36m11\u001b[0m-\u001b[1;36m04\u001b[0m    LAL @ VAN      VAN       \u001b[1;36m40\u001b[0m  \n",
       "\u001b[1;36m54\u001b[0m  Los Angeles Lakers  \u001b[1;36m2000\u001b[0m-\u001b[1;36m11\u001b[0m-\u001b[1;36m05\u001b[0m  LAL vs. LAC      LAC       \u001b[1;36m55\u001b[0m  \n",
       "\n",
       "\u001b[1m[\u001b[0m\u001b[1;36m5\u001b[0m rows x \u001b[1;36m25\u001b[0m columns\u001b[1m]\u001b[0m"
      ]
     },
     "execution_count": 3,
     "metadata": {},
     "output_type": "execute_result"
    }
   ],
   "source": [
    "from kedro.framework.project import configure_project\n",
    "from kedro.framework.session import KedroSession\n",
    "\n",
    "configure_project(\"engenharia_ml_kobe\")\n",
    "\n",
    "with KedroSession.create() as session:\n",
    "    context = session.load_context()\n",
    "    catalog = context.catalog\n",
    "\n",
    "df = catalog.load(\"prod_shots\")\n",
    "df.head()\n"
   ]
  },
  {
   "cell_type": "code",
   "execution_count": null,
   "metadata": {},
   "outputs": [
    {
     "data": {
      "text/html": [
       "<pre style=\"white-space:pre;overflow-x:auto;line-height:normal;font-family:Menlo,'DejaVu Sans Mono',consolas,'Courier New',monospace\"><span style=\"color: #7fbfbf; text-decoration-color: #7fbfbf\">[04/06/25 12:44:20] </span><span style=\"color: #000080; text-decoration-color: #000080\">INFO    </span> Loading data from <span style=\"color: #ff8700; text-decoration-color: #ff8700\">filtered_shots</span> <span style=\"font-weight: bold\">(</span>ParquetDataset<span style=\"font-weight: bold\">)</span><span style=\"color: #808000; text-decoration-color: #808000\">...</span>               <a href=\"file://c:\\Users\\pmnet\\Documents\\Projetos\\pos_graduacao\\Engenharia_ML_1_tri\\engenharia-ml\\engenhariaml-win\\lib\\site-packages\\kedro\\io\\data_catalog.py\" target=\"_blank\"><span style=\"color: #7f7f7f; text-decoration-color: #7f7f7f\">data_catalog.py</span></a><span style=\"color: #7f7f7f; text-decoration-color: #7f7f7f\">:</span><a href=\"file://c:\\Users\\pmnet\\Documents\\Projetos\\pos_graduacao\\Engenharia_ML_1_tri\\engenharia-ml\\engenhariaml-win\\lib\\site-packages\\kedro\\io\\data_catalog.py#401\" target=\"_blank\"><span style=\"color: #7f7f7f; text-decoration-color: #7f7f7f\">401</span></a>\n",
       "</pre>\n"
      ],
      "text/plain": [
       "\u001b[2;36m[04/06/25 12:44:20]\u001b[0m\u001b[2;36m \u001b[0m\u001b[34mINFO    \u001b[0m Loading data from \u001b[38;5;208mfiltered_shots\u001b[0m \u001b[1m(\u001b[0mParquetDataset\u001b[1m)\u001b[0m\u001b[33m...\u001b[0m               \u001b]8;id=575765;file://c:\\Users\\pmnet\\Documents\\Projetos\\pos_graduacao\\Engenharia_ML_1_tri\\engenharia-ml\\engenhariaml-win\\lib\\site-packages\\kedro\\io\\data_catalog.py\u001b\\\u001b[2mdata_catalog.py\u001b[0m\u001b]8;;\u001b\\\u001b[2m:\u001b[0m\u001b]8;id=193927;file://c:\\Users\\pmnet\\Documents\\Projetos\\pos_graduacao\\Engenharia_ML_1_tri\\engenharia-ml\\engenhariaml-win\\lib\\site-packages\\kedro\\io\\data_catalog.py#401\u001b\\\u001b[2m401\u001b[0m\u001b]8;;\u001b\\\n"
      ]
     },
     "metadata": {},
     "output_type": "display_data"
    },
    {
     "data": {
      "text/html": [
       "<pre style=\"white-space:pre;overflow-x:auto;line-height:normal;font-family:Menlo,'DejaVu Sans Mono',consolas,'Courier New',monospace\"></pre>\n"
      ],
      "text/plain": []
     },
     "metadata": {},
     "output_type": "display_data"
    },
    {
     "data": {
      "text/html": [
       "<div>\n",
       "<style scoped>\n",
       "    .dataframe tbody tr th:only-of-type {\n",
       "        vertical-align: middle;\n",
       "    }\n",
       "\n",
       "    .dataframe tbody tr th {\n",
       "        vertical-align: top;\n",
       "    }\n",
       "\n",
       "    .dataframe thead th {\n",
       "        text-align: right;\n",
       "    }\n",
       "</style>\n",
       "<table border=\"1\" class=\"dataframe\">\n",
       "  <thead>\n",
       "    <tr style=\"text-align: right;\">\n",
       "      <th></th>\n",
       "      <th>lat</th>\n",
       "      <th>lon</th>\n",
       "      <th>minutes_remaining</th>\n",
       "      <th>period</th>\n",
       "      <th>playoffs</th>\n",
       "      <th>shot_distance</th>\n",
       "      <th>shot_made_flag</th>\n",
       "    </tr>\n",
       "  </thead>\n",
       "  <tbody>\n",
       "    <tr>\n",
       "      <th>1</th>\n",
       "      <td>34.0443</td>\n",
       "      <td>-118.4268</td>\n",
       "      <td>10</td>\n",
       "      <td>1</td>\n",
       "      <td>0</td>\n",
       "      <td>15</td>\n",
       "      <td>0.0</td>\n",
       "    </tr>\n",
       "    <tr>\n",
       "      <th>2</th>\n",
       "      <td>33.9093</td>\n",
       "      <td>-118.3708</td>\n",
       "      <td>7</td>\n",
       "      <td>1</td>\n",
       "      <td>0</td>\n",
       "      <td>16</td>\n",
       "      <td>1.0</td>\n",
       "    </tr>\n",
       "    <tr>\n",
       "      <th>3</th>\n",
       "      <td>33.8693</td>\n",
       "      <td>-118.1318</td>\n",
       "      <td>6</td>\n",
       "      <td>1</td>\n",
       "      <td>0</td>\n",
       "      <td>22</td>\n",
       "      <td>0.0</td>\n",
       "    </tr>\n",
       "    <tr>\n",
       "      <th>4</th>\n",
       "      <td>34.0443</td>\n",
       "      <td>-118.2698</td>\n",
       "      <td>6</td>\n",
       "      <td>2</td>\n",
       "      <td>0</td>\n",
       "      <td>0</td>\n",
       "      <td>1.0</td>\n",
       "    </tr>\n",
       "    <tr>\n",
       "      <th>5</th>\n",
       "      <td>34.0553</td>\n",
       "      <td>-118.4148</td>\n",
       "      <td>9</td>\n",
       "      <td>3</td>\n",
       "      <td>0</td>\n",
       "      <td>14</td>\n",
       "      <td>0.0</td>\n",
       "    </tr>\n",
       "  </tbody>\n",
       "</table>\n",
       "</div>"
      ],
      "text/plain": [
       "\n",
       "       lat       lon  minutes_remaining  period  playoffs  shot_distance  \\\n",
       "\u001b[1;36m1\u001b[0m  \u001b[1;36m34.0443\u001b[0m \u001b[1;36m-118.4268\u001b[0m                 \u001b[1;36m10\u001b[0m       \u001b[1;36m1\u001b[0m         \u001b[1;36m0\u001b[0m             \u001b[1;36m15\u001b[0m   \n",
       "\u001b[1;36m2\u001b[0m  \u001b[1;36m33.9093\u001b[0m \u001b[1;36m-118.3708\u001b[0m                  \u001b[1;36m7\u001b[0m       \u001b[1;36m1\u001b[0m         \u001b[1;36m0\u001b[0m             \u001b[1;36m16\u001b[0m   \n",
       "\u001b[1;36m3\u001b[0m  \u001b[1;36m33.8693\u001b[0m \u001b[1;36m-118.1318\u001b[0m                  \u001b[1;36m6\u001b[0m       \u001b[1;36m1\u001b[0m         \u001b[1;36m0\u001b[0m             \u001b[1;36m22\u001b[0m   \n",
       "\u001b[1;36m4\u001b[0m  \u001b[1;36m34.0443\u001b[0m \u001b[1;36m-118.2698\u001b[0m                  \u001b[1;36m6\u001b[0m       \u001b[1;36m2\u001b[0m         \u001b[1;36m0\u001b[0m              \u001b[1;36m0\u001b[0m   \n",
       "\u001b[1;36m5\u001b[0m  \u001b[1;36m34.0553\u001b[0m \u001b[1;36m-118.4148\u001b[0m                  \u001b[1;36m9\u001b[0m       \u001b[1;36m3\u001b[0m         \u001b[1;36m0\u001b[0m             \u001b[1;36m14\u001b[0m   \n",
       "\n",
       "   shot_made_flag  \n",
       "\u001b[1;36m1\u001b[0m             \u001b[1;36m0.0\u001b[0m  \n",
       "\u001b[1;36m2\u001b[0m             \u001b[1;36m1.0\u001b[0m  \n",
       "\u001b[1;36m3\u001b[0m             \u001b[1;36m0.0\u001b[0m  \n",
       "\u001b[1;36m4\u001b[0m             \u001b[1;36m1.0\u001b[0m  \n",
       "\u001b[1;36m5\u001b[0m             \u001b[1;36m0.0\u001b[0m  "
      ]
     },
     "execution_count": 4,
     "metadata": {},
     "output_type": "execute_result"
    }
   ],
   "source": [
    "df_filtered = catalog.load(\"filtered_shots\")\n",
    "df_filtered.head()"
   ]
  },
  {
   "cell_type": "code",
   "execution_count": 5,
   "metadata": {},
   "outputs": [
    {
     "data": {
      "text/html": [
       "<pre style=\"white-space:pre;overflow-x:auto;line-height:normal;font-family:Menlo,'DejaVu Sans Mono',consolas,'Courier New',monospace\"></pre>\n"
      ],
      "text/plain": []
     },
     "metadata": {},
     "output_type": "display_data"
    },
    {
     "data": {
      "text/plain": [
       "\n",
       "\u001b[1;35mIndex\u001b[0m\u001b[1m(\u001b[0m\u001b[1m[\u001b[0m\u001b[32m'lat'\u001b[0m, \u001b[32m'lon'\u001b[0m, \u001b[32m'minutes_remaining'\u001b[0m, \u001b[32m'period'\u001b[0m, \u001b[32m'playoffs'\u001b[0m,\n",
       "       \u001b[32m'shot_distance'\u001b[0m, \u001b[32m'shot_made_flag'\u001b[0m\u001b[1m]\u001b[0m,\n",
       "      \u001b[33mdtype\u001b[0m=\u001b[32m'object'\u001b[0m\u001b[1m)\u001b[0m"
      ]
     },
     "execution_count": 5,
     "metadata": {},
     "output_type": "execute_result"
    }
   ],
   "source": [
    "df_filtered.columns"
   ]
  },
  {
   "cell_type": "code",
   "execution_count": 6,
   "metadata": {},
   "outputs": [],
   "source": [
    "unecessary_cols = []\n",
    "\n",
    "for i in df.columns:\n",
    "\n",
    "    if i not in df_filtered.columns:\n",
    "      unecessary_cols.append(i)  \n"
   ]
  },
  {
   "cell_type": "code",
   "execution_count": 7,
   "metadata": {},
   "outputs": [
    {
     "data": {
      "text/html": [
       "<pre style=\"white-space:pre;overflow-x:auto;line-height:normal;font-family:Menlo,'DejaVu Sans Mono',consolas,'Courier New',monospace\"></pre>\n"
      ],
      "text/plain": []
     },
     "metadata": {},
     "output_type": "display_data"
    },
    {
     "data": {
      "text/plain": [
       "\n",
       "\u001b[1m[\u001b[0m\n",
       "    \u001b[32m'action_type'\u001b[0m,\n",
       "    \u001b[32m'combined_shot_type'\u001b[0m,\n",
       "    \u001b[32m'game_event_id'\u001b[0m,\n",
       "    \u001b[32m'game_id'\u001b[0m,\n",
       "    \u001b[32m'loc_x'\u001b[0m,\n",
       "    \u001b[32m'loc_y'\u001b[0m,\n",
       "    \u001b[32m'season'\u001b[0m,\n",
       "    \u001b[32m'seconds_remaining'\u001b[0m,\n",
       "    \u001b[32m'shot_type'\u001b[0m,\n",
       "    \u001b[32m'shot_zone_area'\u001b[0m,\n",
       "    \u001b[32m'shot_zone_basic'\u001b[0m,\n",
       "    \u001b[32m'shot_zone_range'\u001b[0m,\n",
       "    \u001b[32m'team_id'\u001b[0m,\n",
       "    \u001b[32m'team_name'\u001b[0m,\n",
       "    \u001b[32m'game_date'\u001b[0m,\n",
       "    \u001b[32m'matchup'\u001b[0m,\n",
       "    \u001b[32m'opponent'\u001b[0m,\n",
       "    \u001b[32m'shot_id'\u001b[0m\n",
       "\u001b[1m]\u001b[0m"
      ]
     },
     "execution_count": 7,
     "metadata": {},
     "output_type": "execute_result"
    }
   ],
   "source": [
    "unecessary_cols"
   ]
  },
  {
   "cell_type": "code",
   "execution_count": null,
   "metadata": {},
   "outputs": [],
   "source": []
  }
 ],
 "metadata": {
  "kernelspec": {
   "display_name": "Python 3",
   "language": "python",
   "name": "python3"
  },
  "language_info": {
   "codemirror_mode": {
    "name": "ipython",
    "version": 3
   },
   "file_extension": ".py",
   "mimetype": "text/x-python",
   "name": "python",
   "nbconvert_exporter": "python",
   "pygments_lexer": "ipython3",
   "version": "3.10.5"
  }
 },
 "nbformat": 4,
 "nbformat_minor": 2
}
